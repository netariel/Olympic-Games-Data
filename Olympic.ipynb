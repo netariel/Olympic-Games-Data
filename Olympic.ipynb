{
 "cells": [
  {
   "cell_type": "markdown",
   "id": "2b6ad1c6-28bf-4530-a707-b51d99fc2ab1",
   "metadata": {},
   "source": [
    "# Group Number : 20\n",
    "Members: \n",
    "\n"
   ]
  },
  {
   "cell_type": "code",
   "execution_count": 170,
   "id": "30b1fb9e-e61d-481f-b773-ad3fe090eceb",
   "metadata": {
    "tags": []
   },
   "outputs": [],
   "source": [
    "import pandas as pd\n",
    "import numpy as np\n",
    "import seaborn as sns\n",
    "import matplotlib.pyplot as plt"
   ]
  },
  {
   "cell_type": "code",
   "execution_count": 171,
   "id": "f4d9c04f-0233-4158-8b5e-69e1b68c4105",
   "metadata": {
    "tags": []
   },
   "outputs": [
    {
     "data": {
      "text/plain": [
       "(70000, 15)"
      ]
     },
     "execution_count": 171,
     "metadata": {},
     "output_type": "execute_result"
    }
   ],
   "source": [
    "url = 'https://raw.githubusercontent.com/netariel/Olympic-Games-Data/main/dataset_olympics.csv'\n",
    "first_olymp_df= pd.read_csv(url)\n",
    "first_olymp_df.shape"
   ]
  },
  {
   "cell_type": "markdown",
   "id": "1e7a7ca6-0169-4e17-a6f9-150f9f12547c",
   "metadata": {},
   "source": [
    "Our data consists of 15 columns and 70,000 rows"
   ]
  },
  {
   "cell_type": "code",
   "execution_count": 178,
   "id": "c7d4a9d3-6e38-42dc-967a-034efe9b9aa2",
   "metadata": {
    "tags": []
   },
   "outputs": [
    {
     "data": {
      "text/plain": [
       "(70000, 17)"
      ]
     },
     "execution_count": 178,
     "metadata": {},
     "output_type": "execute_result"
    }
   ],
   "source": [
    "additional_data_df = pd.read_csv('https://raw.githubusercontent.com/netariel/Olympic-Games-Data/main/noc_region.csv')\n",
    "change_olp_df = pd.merge(first_olymp_df, additional_data_df[['noc_region','reg']], left_on='NOC', right_on='noc_region', how='left')\n",
    "change_olp_df.shape"
   ]
  },
  {
   "cell_type": "code",
   "execution_count": 179,
   "id": "dfd81b3d-5f15-4b44-b53e-5fec078c5b34",
   "metadata": {
    "tags": []
   },
   "outputs": [
    {
     "data": {
      "text/plain": [
       "(70000, 16)"
      ]
     },
     "execution_count": 179,
     "metadata": {},
     "output_type": "execute_result"
    }
   ],
   "source": [
    "olympic_df = change_olp_df.drop(columns=['noc_region'])\n",
    "olympic_df.shape"
   ]
  },
  {
   "cell_type": "code",
   "execution_count": 180,
   "id": "60d04eae-6c0e-4df8-9188-3446fc790260",
   "metadata": {
    "tags": []
   },
   "outputs": [
    {
     "data": {
      "text/html": [
       "<div>\n",
       "<style scoped>\n",
       "    .dataframe tbody tr th:only-of-type {\n",
       "        vertical-align: middle;\n",
       "    }\n",
       "\n",
       "    .dataframe tbody tr th {\n",
       "        vertical-align: top;\n",
       "    }\n",
       "\n",
       "    .dataframe thead th {\n",
       "        text-align: right;\n",
       "    }\n",
       "</style>\n",
       "<table border=\"1\" class=\"dataframe\">\n",
       "  <thead>\n",
       "    <tr style=\"text-align: right;\">\n",
       "      <th></th>\n",
       "      <th>ID</th>\n",
       "      <th>Name</th>\n",
       "      <th>Sex</th>\n",
       "      <th>Age</th>\n",
       "      <th>Height</th>\n",
       "      <th>Weight</th>\n",
       "      <th>Team</th>\n",
       "      <th>NOC</th>\n",
       "      <th>Games</th>\n",
       "      <th>Year</th>\n",
       "      <th>Season</th>\n",
       "      <th>City</th>\n",
       "      <th>Sport</th>\n",
       "      <th>Event</th>\n",
       "      <th>Medal</th>\n",
       "      <th>reg</th>\n",
       "    </tr>\n",
       "  </thead>\n",
       "  <tbody>\n",
       "    <tr>\n",
       "      <th>0</th>\n",
       "      <td>1</td>\n",
       "      <td>A Dijiang</td>\n",
       "      <td>M</td>\n",
       "      <td>24.0</td>\n",
       "      <td>180.0</td>\n",
       "      <td>80.0</td>\n",
       "      <td>China</td>\n",
       "      <td>CHN</td>\n",
       "      <td>1992 Summer</td>\n",
       "      <td>1992</td>\n",
       "      <td>Summer</td>\n",
       "      <td>Barcelona</td>\n",
       "      <td>Basketball</td>\n",
       "      <td>Basketball Men's Basketball</td>\n",
       "      <td>NaN</td>\n",
       "      <td>China</td>\n",
       "    </tr>\n",
       "    <tr>\n",
       "      <th>1</th>\n",
       "      <td>2</td>\n",
       "      <td>A Lamusi</td>\n",
       "      <td>M</td>\n",
       "      <td>23.0</td>\n",
       "      <td>170.0</td>\n",
       "      <td>60.0</td>\n",
       "      <td>China</td>\n",
       "      <td>CHN</td>\n",
       "      <td>2012 Summer</td>\n",
       "      <td>2012</td>\n",
       "      <td>Summer</td>\n",
       "      <td>London</td>\n",
       "      <td>Judo</td>\n",
       "      <td>Judo Men's Extra-Lightweight</td>\n",
       "      <td>NaN</td>\n",
       "      <td>China</td>\n",
       "    </tr>\n",
       "    <tr>\n",
       "      <th>2</th>\n",
       "      <td>3</td>\n",
       "      <td>Gunnar Nielsen Aaby</td>\n",
       "      <td>M</td>\n",
       "      <td>24.0</td>\n",
       "      <td>NaN</td>\n",
       "      <td>NaN</td>\n",
       "      <td>Denmark</td>\n",
       "      <td>DEN</td>\n",
       "      <td>1920 Summer</td>\n",
       "      <td>1920</td>\n",
       "      <td>Summer</td>\n",
       "      <td>Antwerpen</td>\n",
       "      <td>Football</td>\n",
       "      <td>Football Men's Football</td>\n",
       "      <td>NaN</td>\n",
       "      <td>Denmark</td>\n",
       "    </tr>\n",
       "    <tr>\n",
       "      <th>3</th>\n",
       "      <td>4</td>\n",
       "      <td>Edgar Lindenau Aabye</td>\n",
       "      <td>M</td>\n",
       "      <td>34.0</td>\n",
       "      <td>NaN</td>\n",
       "      <td>NaN</td>\n",
       "      <td>Denmark/Sweden</td>\n",
       "      <td>DEN</td>\n",
       "      <td>1900 Summer</td>\n",
       "      <td>1900</td>\n",
       "      <td>Summer</td>\n",
       "      <td>Paris</td>\n",
       "      <td>Tug-Of-War</td>\n",
       "      <td>Tug-Of-War Men's Tug-Of-War</td>\n",
       "      <td>Gold</td>\n",
       "      <td>Denmark</td>\n",
       "    </tr>\n",
       "    <tr>\n",
       "      <th>4</th>\n",
       "      <td>5</td>\n",
       "      <td>Christine Jacoba Aaftink</td>\n",
       "      <td>F</td>\n",
       "      <td>21.0</td>\n",
       "      <td>185.0</td>\n",
       "      <td>82.0</td>\n",
       "      <td>Netherlands</td>\n",
       "      <td>NED</td>\n",
       "      <td>1988 Winter</td>\n",
       "      <td>1988</td>\n",
       "      <td>Winter</td>\n",
       "      <td>Calgary</td>\n",
       "      <td>Speed Skating</td>\n",
       "      <td>Speed Skating Women's 500 metres</td>\n",
       "      <td>NaN</td>\n",
       "      <td>Netherlands</td>\n",
       "    </tr>\n",
       "    <tr>\n",
       "      <th>...</th>\n",
       "      <td>...</td>\n",
       "      <td>...</td>\n",
       "      <td>...</td>\n",
       "      <td>...</td>\n",
       "      <td>...</td>\n",
       "      <td>...</td>\n",
       "      <td>...</td>\n",
       "      <td>...</td>\n",
       "      <td>...</td>\n",
       "      <td>...</td>\n",
       "      <td>...</td>\n",
       "      <td>...</td>\n",
       "      <td>...</td>\n",
       "      <td>...</td>\n",
       "      <td>...</td>\n",
       "      <td>...</td>\n",
       "    </tr>\n",
       "    <tr>\n",
       "      <th>69995</th>\n",
       "      <td>35656</td>\n",
       "      <td>Stuart Fitzsimmons</td>\n",
       "      <td>M</td>\n",
       "      <td>19.0</td>\n",
       "      <td>NaN</td>\n",
       "      <td>NaN</td>\n",
       "      <td>Great Britain</td>\n",
       "      <td>GBR</td>\n",
       "      <td>1976 Winter</td>\n",
       "      <td>1976</td>\n",
       "      <td>Winter</td>\n",
       "      <td>Innsbruck</td>\n",
       "      <td>Alpine Skiing</td>\n",
       "      <td>Alpine Skiing Men's Giant Slalom</td>\n",
       "      <td>NaN</td>\n",
       "      <td>UK</td>\n",
       "    </tr>\n",
       "    <tr>\n",
       "      <th>69996</th>\n",
       "      <td>35656</td>\n",
       "      <td>Stuart Fitzsimmons</td>\n",
       "      <td>M</td>\n",
       "      <td>19.0</td>\n",
       "      <td>NaN</td>\n",
       "      <td>NaN</td>\n",
       "      <td>Great Britain</td>\n",
       "      <td>GBR</td>\n",
       "      <td>1976 Winter</td>\n",
       "      <td>1976</td>\n",
       "      <td>Winter</td>\n",
       "      <td>Innsbruck</td>\n",
       "      <td>Alpine Skiing</td>\n",
       "      <td>Alpine Skiing Men's Slalom</td>\n",
       "      <td>NaN</td>\n",
       "      <td>UK</td>\n",
       "    </tr>\n",
       "    <tr>\n",
       "      <th>69997</th>\n",
       "      <td>35657</td>\n",
       "      <td>David Thomas \"Dave\" Fitzsimons</td>\n",
       "      <td>M</td>\n",
       "      <td>26.0</td>\n",
       "      <td>170.0</td>\n",
       "      <td>65.0</td>\n",
       "      <td>Australia</td>\n",
       "      <td>AUS</td>\n",
       "      <td>1976 Summer</td>\n",
       "      <td>1976</td>\n",
       "      <td>Summer</td>\n",
       "      <td>Montreal</td>\n",
       "      <td>Athletics</td>\n",
       "      <td>Athletics Men's 10,000 metres</td>\n",
       "      <td>NaN</td>\n",
       "      <td>Australia</td>\n",
       "    </tr>\n",
       "    <tr>\n",
       "      <th>69998</th>\n",
       "      <td>35657</td>\n",
       "      <td>David Thomas \"Dave\" Fitzsimons</td>\n",
       "      <td>M</td>\n",
       "      <td>30.0</td>\n",
       "      <td>170.0</td>\n",
       "      <td>65.0</td>\n",
       "      <td>Australia</td>\n",
       "      <td>AUS</td>\n",
       "      <td>1980 Summer</td>\n",
       "      <td>1980</td>\n",
       "      <td>Summer</td>\n",
       "      <td>Moskva</td>\n",
       "      <td>Athletics</td>\n",
       "      <td>Athletics Men's 5,000 metres</td>\n",
       "      <td>NaN</td>\n",
       "      <td>Australia</td>\n",
       "    </tr>\n",
       "    <tr>\n",
       "      <th>69999</th>\n",
       "      <td>35658</td>\n",
       "      <td>Marek Fiurek</td>\n",
       "      <td>M</td>\n",
       "      <td>23.0</td>\n",
       "      <td>180.0</td>\n",
       "      <td>68.0</td>\n",
       "      <td>Czech Republic</td>\n",
       "      <td>CZE</td>\n",
       "      <td>1998 Winter</td>\n",
       "      <td>1998</td>\n",
       "      <td>Winter</td>\n",
       "      <td>Nagano</td>\n",
       "      <td>Nordic Combined</td>\n",
       "      <td>Nordic Combined Men's Team</td>\n",
       "      <td>NaN</td>\n",
       "      <td>Czech Republic</td>\n",
       "    </tr>\n",
       "  </tbody>\n",
       "</table>\n",
       "<p>70000 rows × 16 columns</p>\n",
       "</div>"
      ],
      "text/plain": [
       "          ID                            Name Sex   Age  Height  Weight  \\\n",
       "0          1                       A Dijiang   M  24.0   180.0    80.0   \n",
       "1          2                        A Lamusi   M  23.0   170.0    60.0   \n",
       "2          3             Gunnar Nielsen Aaby   M  24.0     NaN     NaN   \n",
       "3          4            Edgar Lindenau Aabye   M  34.0     NaN     NaN   \n",
       "4          5        Christine Jacoba Aaftink   F  21.0   185.0    82.0   \n",
       "...      ...                             ...  ..   ...     ...     ...   \n",
       "69995  35656              Stuart Fitzsimmons   M  19.0     NaN     NaN   \n",
       "69996  35656              Stuart Fitzsimmons   M  19.0     NaN     NaN   \n",
       "69997  35657  David Thomas \"Dave\" Fitzsimons   M  26.0   170.0    65.0   \n",
       "69998  35657  David Thomas \"Dave\" Fitzsimons   M  30.0   170.0    65.0   \n",
       "69999  35658                    Marek Fiurek   M  23.0   180.0    68.0   \n",
       "\n",
       "                 Team  NOC        Games  Year  Season       City  \\\n",
       "0               China  CHN  1992 Summer  1992  Summer  Barcelona   \n",
       "1               China  CHN  2012 Summer  2012  Summer     London   \n",
       "2             Denmark  DEN  1920 Summer  1920  Summer  Antwerpen   \n",
       "3      Denmark/Sweden  DEN  1900 Summer  1900  Summer      Paris   \n",
       "4         Netherlands  NED  1988 Winter  1988  Winter    Calgary   \n",
       "...               ...  ...          ...   ...     ...        ...   \n",
       "69995   Great Britain  GBR  1976 Winter  1976  Winter  Innsbruck   \n",
       "69996   Great Britain  GBR  1976 Winter  1976  Winter  Innsbruck   \n",
       "69997       Australia  AUS  1976 Summer  1976  Summer   Montreal   \n",
       "69998       Australia  AUS  1980 Summer  1980  Summer     Moskva   \n",
       "69999  Czech Republic  CZE  1998 Winter  1998  Winter     Nagano   \n",
       "\n",
       "                 Sport                             Event Medal             reg  \n",
       "0           Basketball       Basketball Men's Basketball   NaN           China  \n",
       "1                 Judo      Judo Men's Extra-Lightweight   NaN           China  \n",
       "2             Football           Football Men's Football   NaN         Denmark  \n",
       "3           Tug-Of-War       Tug-Of-War Men's Tug-Of-War  Gold         Denmark  \n",
       "4        Speed Skating  Speed Skating Women's 500 metres   NaN     Netherlands  \n",
       "...                ...                               ...   ...             ...  \n",
       "69995    Alpine Skiing  Alpine Skiing Men's Giant Slalom   NaN              UK  \n",
       "69996    Alpine Skiing        Alpine Skiing Men's Slalom   NaN              UK  \n",
       "69997        Athletics     Athletics Men's 10,000 metres   NaN       Australia  \n",
       "69998        Athletics      Athletics Men's 5,000 metres   NaN       Australia  \n",
       "69999  Nordic Combined        Nordic Combined Men's Team   NaN  Czech Republic  \n",
       "\n",
       "[70000 rows x 16 columns]"
      ]
     },
     "execution_count": 180,
     "metadata": {},
     "output_type": "execute_result"
    }
   ],
   "source": [
    "olympic_df"
   ]
  },
  {
   "cell_type": "code",
   "execution_count": 181,
   "id": "7ac196ad-952e-4c6a-9ec2-5a610549966e",
   "metadata": {
    "tags": []
   },
   "outputs": [
    {
     "data": {
      "text/plain": [
       "ID          int64\n",
       "Name       object\n",
       "Sex        object\n",
       "Age       float64\n",
       "Height    float64\n",
       "Weight    float64\n",
       "Team       object\n",
       "NOC        object\n",
       "Games      object\n",
       "Year        int64\n",
       "Season     object\n",
       "City       object\n",
       "Sport      object\n",
       "Event      object\n",
       "Medal      object\n",
       "reg        object\n",
       "dtype: object"
      ]
     },
     "execution_count": 181,
     "metadata": {},
     "output_type": "execute_result"
    }
   ],
   "source": [
    "olympic_df.dtypes"
   ]
  },
  {
   "cell_type": "markdown",
   "id": "d9e71a65-edeb-4df6-8413-99dd623ec3db",
   "metadata": {},
   "source": [
    "בשביל לדעת איך לעבוד עם הנתונים רצינו לדעת את סוג האובייקט בכל עמודה"
   ]
  },
  {
   "cell_type": "code",
   "execution_count": 182,
   "id": "e1c01ebc-0bf5-40b8-9596-e456701af221",
   "metadata": {
    "tags": []
   },
   "outputs": [
    {
     "name": "stdout",
     "output_type": "stream",
     "text": [
      "num of Team:827\n",
      "num of NOC:226\n"
     ]
    }
   ],
   "source": [
    "num_of_team = len(olympic_df['Team'].unique())\n",
    "num_of_NOC = len(olympic_df['NOC'].unique())\n",
    "print(f\"num of Team:{num_of_team}\\nnum of NOC:{num_of_NOC}\")"
   ]
  },
  {
   "cell_type": "markdown",
   "id": "e5ab55c6-8af4-4535-85f0-32256ca7cd70",
   "metadata": {},
   "source": [
    "ראינו שיש אי התאמה בין מספר המדינות לבין מספר סמלי המדינה.\n",
    "בדקנו את שמות המדינות וראינו שיש מדינות שקרויות פעמים עם שינוי בתו, אך מדובר על אותה מדינה ולכן החלטנו שבמידה ונרצה להתייחס לנתון המדינה/קבוצה נשתמש בעמודת הסמל"
   ]
  },
  {
   "cell_type": "code",
   "execution_count": 242,
   "id": "e042b6a7-20b4-48ee-a885-cd740bf6b393",
   "metadata": {
    "tags": []
   },
   "outputs": [
    {
     "data": {
      "image/png": "[encoded data removed]",
      "text/plain": [
       "<Figure size 900x500 with 2 Axes>"
      ]
     },
     "metadata": {},
     "output_type": "display_data"
    }
   ],
   "source": [
    "fig, ax = plt.subplots(1, 2, figsize=(9, 5))\n",
    "sns.boxplot(data=olympic_df[['Age']], ax=ax[0],palette='Blues')\n",
    "ax[0].set_title('Boxplot of Age')\n",
    "sns.set_palette(\"pastel\")\n",
    "sex_counts = olympic_df['Sex'].value_counts()\n",
    "ax[1].pie(sex_counts, labels=sex_counts.index, autopct='%1.1f%%', colors=['skyblue', 'pink'], radius=1.5)\n",
    "ax[1].set_title('Male and Female shows', y=1.15)\n",
    "plt.subplots_adjust(wspace=0.5)\n",
    "plt.show()"
   ]
  },
  {
   "cell_type": "markdown",
   "id": "59ebac0c-762c-4239-8981-2bb301aca3ca",
   "metadata": {},
   "source": [
    "רצינו לראות את ההתפלגות הגילאים והמינים של השחקנים שהשתתפו באולימפיאדה"
   ]
  },
  {
   "cell_type": "code",
   "execution_count": 243,
   "id": "efe406c4-d42d-4a70-8317-10add6ca82af",
   "metadata": {
    "tags": []
   },
   "outputs": [],
   "source": [
    "summer_olympics_df = olympic_df[olympic_df['Season'] == 'Summer']\n",
    "winter_olympics_df = olympic_df[olympic_df['Season'] == 'Winter']"
   ]
  },
  {
   "cell_type": "code",
   "execution_count": 244,
   "id": "3cf1ab77-24bd-4486-b3df-ef1c438ff9e9",
   "metadata": {
    "tags": []
   },
   "outputs": [],
   "source": [
    "summer_top_med_df = summer_olympics_df.groupby('NOC')[['Medal']].count() \n",
    "summer_top_med_df= summer_top_med_df.reset_index()\n",
    "summer_top_med_df = summer_top_med_df.nlargest(10, 'Medal')\n",
    "winter_top_med_df = winter_olympics_df.groupby('NOC')[['Medal']].count() \n",
    "winter_top_med_df= winter_top_med_df.reset_index()\n",
    "winter_top_med_df = winter_top_med_df.nlargest(10, 'Medal')"
   ]
  },
  {
   "cell_type": "code",
   "execution_count": 245,
   "id": "364d3278-e466-4f49-9cb8-5a02e5b76899",
   "metadata": {
    "tags": []
   },
   "outputs": [
    {
     "data": {
      "image/png": "[encoded data removed]",
      "text/plain": [
       "<Figure size 1200x400 with 2 Axes>"
      ]
     },
     "metadata": {},
     "output_type": "display_data"
    }
   ],
   "source": [
    "fig, ax = plt.subplots(1, 2, figsize=(12, 4))\n",
    "sns.barplot(data=summer_top_med_df, x='NOC', y='Medal', ax=ax[0], palette='Reds_r')\n",
    "ax[0].set_title('Top 10 country by medal count at summer games')\n",
    "ax[0].set_xlabel('Name Of Country')\n",
    "ax[0].set_ylabel('Medal Count')\n",
    "sns.barplot(data=winter_top_med_df, x='NOC', y='Medal', ax=ax[1], palette='Blues_r')\n",
    "ax[1].set_title('Top 10 country by medal count at winter games')\n",
    "ax[1].set_xlabel('Name Of Country')\n",
    "ax[1].set_ylabel('Medal Count')\n",
    "\n",
    "plt.tight_layout()\n",
    "plt.show()"
   ]
  },
  {
   "cell_type": "code",
   "execution_count": 246,
   "id": "cce6aa87-c704-4e87-9755-b55e8611019c",
   "metadata": {
    "tags": []
   },
   "outputs": [],
   "source": [
    "med_df = olympic_df.groupby('reg')[['Medal']].count() \n",
    "med_df= med_df.reset_index()\n",
    "med_df = med_df.nlargest(10, 'Medal')"
   ]
  },
  {
   "cell_type": "code",
   "execution_count": 249,
   "id": "cceb40e0-b01a-4d4e-85eb-c066625d1566",
   "metadata": {
    "tags": []
   },
   "outputs": [
    {
     "data": {
      "image/png": "[encoded data removed]",
      "text/plain": [
       "<Figure size 900x300 with 1 Axes>"
      ]
     },
     "metadata": {},
     "output_type": "display_data"
    }
   ],
   "source": [
    "plt.figure(figsize=(9, 3))\n",
    "sns.barplot(x='reg', y='Medal', data=med_df)\n",
    "plt.title('The 10 countries with the most medals')\n",
    "plt.xlabel('reg')\n",
    "plt.ylabel('Medal')\n",
    "plt.show()"
   ]
  },
  {
   "cell_type": "code",
   "execution_count": 250,
   "id": "d9704b9d-9440-40b1-b312-30572d3d47b3",
   "metadata": {
    "tags": []
   },
   "outputs": [],
   "source": [
    "events_summer_df = summer_olympics_df.groupby('Games')[['Sport']].nunique()\n",
    "events_summer_df = events_summer_df.reset_index()\n",
    "events_winter_df = winter_olympics_df.groupby('Games')[['Sport']].nunique()\n",
    "events_winter_df = events_winter_df.reset_index()"
   ]
  },
  {
   "cell_type": "code",
   "execution_count": 251,
   "id": "617a7037-311b-4aee-8d8f-c567809c97b5",
   "metadata": {
    "tags": []
   },
   "outputs": [
    {
     "data": {
      "image/png": "[encoded data removed]",
      "text/plain": [
       "<Figure size 2000x400 with 1 Axes>"
      ]
     },
     "metadata": {},
     "output_type": "display_data"
    },
    {
     "data": {
      "image/png": "[encoded data removed]",
      "text/plain": [
       "<Figure size 2000x400 with 1 Axes>"
      ]
     },
     "metadata": {},
     "output_type": "display_data"
    }
   ],
   "source": [
    "plt.figure(figsize=(20, 4))\n",
    "sns.lineplot(data=events_summer_df, x='Games', y='Sport', marker='o', color='red')\n",
    "plt.title('Number of Unique Sports per Year in Summer Olympics')\n",
    "plt.xlabel('Games')\n",
    "plt.ylabel('Number of Unique Sports')\n",
    "plt.xticks(rotation=45)\n",
    "# sns.despine()\n",
    "plt.show()\n",
    "plt.figure(figsize=(20, 4))\n",
    "sns.lineplot(data=events_winter_df, x='Games', y='Sport', marker='o', color='blue')\n",
    "plt.title('Number of Unique Sports per Year in Winter Olympics')\n",
    "plt.xlabel('Games')\n",
    "plt.ylabel('Number of Unique Sports')\n",
    "plt.xticks(rotation=45)\n",
    "# sns.despine()\n",
    "plt.show()"
   ]
  },
  {
   "cell_type": "code",
   "execution_count": 252,
   "id": "8f083ba2-5c1f-4b26-bfff-3aa3a339133c",
   "metadata": {
    "tags": []
   },
   "outputs": [
    {
     "data": {
      "text/html": [
       "<div>\n",
       "<style scoped>\n",
       "    .dataframe tbody tr th:only-of-type {\n",
       "        vertical-align: middle;\n",
       "    }\n",
       "\n",
       "    .dataframe tbody tr th {\n",
       "        vertical-align: top;\n",
       "    }\n",
       "\n",
       "    .dataframe thead th {\n",
       "        text-align: right;\n",
       "    }\n",
       "</style>\n",
       "<table border=\"1\" class=\"dataframe\">\n",
       "  <thead>\n",
       "    <tr style=\"text-align: right;\">\n",
       "      <th></th>\n",
       "      <th>Name</th>\n",
       "      <th>Medal</th>\n",
       "      <th>NOC</th>\n",
       "    </tr>\n",
       "  </thead>\n",
       "  <tbody>\n",
       "    <tr>\n",
       "      <th>0</th>\n",
       "      <td>Nikolay Yefimovich Andrianov</td>\n",
       "      <td>15</td>\n",
       "      <td>URS</td>\n",
       "    </tr>\n",
       "    <tr>\n",
       "      <th>24</th>\n",
       "      <td>Ole Einar Bjrndalen</td>\n",
       "      <td>13</td>\n",
       "      <td>NOR</td>\n",
       "    </tr>\n",
       "    <tr>\n",
       "      <th>51</th>\n",
       "      <td>Birgit Fischer-Schmidt</td>\n",
       "      <td>12</td>\n",
       "      <td>GDR</td>\n",
       "    </tr>\n",
       "    <tr>\n",
       "      <th>55</th>\n",
       "      <td>Birgit Fischer-Schmidt</td>\n",
       "      <td>12</td>\n",
       "      <td>GER</td>\n",
       "    </tr>\n",
       "    <tr>\n",
       "      <th>64</th>\n",
       "      <td>Natalie Anne Coughlin (-Hall)</td>\n",
       "      <td>12</td>\n",
       "      <td>USA</td>\n",
       "    </tr>\n",
       "    <tr>\n",
       "      <th>76</th>\n",
       "      <td>Matthew Nicholas \"Matt\" Biondi</td>\n",
       "      <td>11</td>\n",
       "      <td>USA</td>\n",
       "    </tr>\n",
       "    <tr>\n",
       "      <th>88</th>\n",
       "      <td>Viktor Ivanovych Chukarin</td>\n",
       "      <td>11</td>\n",
       "      <td>URS</td>\n",
       "    </tr>\n",
       "    <tr>\n",
       "      <th>104</th>\n",
       "      <td>Vra slavsk (-Odloilov)</td>\n",
       "      <td>11</td>\n",
       "      <td>TCH</td>\n",
       "    </tr>\n",
       "    <tr>\n",
       "      <th>122</th>\n",
       "      <td>Aleksandr Nikolayevich Dityatin</td>\n",
       "      <td>10</td>\n",
       "      <td>URS</td>\n",
       "    </tr>\n",
       "    <tr>\n",
       "      <th>138</th>\n",
       "      <td>Marit Bjrgen</td>\n",
       "      <td>10</td>\n",
       "      <td>NOR</td>\n",
       "    </tr>\n",
       "    <tr>\n",
       "      <th>157</th>\n",
       "      <td>Polina Hryhorivna Astakhova</td>\n",
       "      <td>10</td>\n",
       "      <td>URS</td>\n",
       "    </tr>\n",
       "  </tbody>\n",
       "</table>\n",
       "</div>"
      ],
      "text/plain": [
       "                                Name  Medal  NOC\n",
       "0       Nikolay Yefimovich Andrianov     15  URS\n",
       "24               Ole Einar Bjrndalen     13  NOR\n",
       "51            Birgit Fischer-Schmidt     12  GDR\n",
       "55            Birgit Fischer-Schmidt     12  GER\n",
       "64     Natalie Anne Coughlin (-Hall)     12  USA\n",
       "76    Matthew Nicholas \"Matt\" Biondi     11  USA\n",
       "88         Viktor Ivanovych Chukarin     11  URS\n",
       "104           Vra slavsk (-Odloilov)     11  TCH\n",
       "122  Aleksandr Nikolayevich Dityatin     10  URS\n",
       "138                     Marit Bjrgen     10  NOR\n",
       "157      Polina Hryhorivna Astakhova     10  URS"
      ]
     },
     "execution_count": 252,
     "metadata": {},
     "output_type": "execute_result"
    }
   ],
   "source": [
    "top_ath_df = olympic_df.groupby('Name')[['Medal']].count() \n",
    "top_ath_df= top_ath_df.reset_index()\n",
    "top_ath_df = top_ath_df.nlargest(10, 'Medal')\n",
    "top_ath_df = top_ath_df.merge(olympic_df[['Name','NOC']], on='Name', how='left').drop_duplicates()\n",
    "top_ath_df"
   ]
  },
  {
   "cell_type": "code",
   "execution_count": 212,
   "id": "92c18790-938a-4538-8759-37dbae71b6aa",
   "metadata": {
    "tags": []
   },
   "outputs": [
    {
     "data": {
      "text/html": [
       "<div>\n",
       "<style scoped>\n",
       "    .dataframe tbody tr th:only-of-type {\n",
       "        vertical-align: middle;\n",
       "    }\n",
       "\n",
       "    .dataframe tbody tr th {\n",
       "        vertical-align: top;\n",
       "    }\n",
       "\n",
       "    .dataframe thead th {\n",
       "        text-align: right;\n",
       "    }\n",
       "</style>\n",
       "<table border=\"1\" class=\"dataframe\">\n",
       "  <thead>\n",
       "    <tr style=\"text-align: right;\">\n",
       "      <th></th>\n",
       "      <th>Name</th>\n",
       "      <th>Number of shows</th>\n",
       "      <th>NOC</th>\n",
       "      <th>reg</th>\n",
       "      <th>Year</th>\n",
       "      <th>Season</th>\n",
       "    </tr>\n",
       "  </thead>\n",
       "  <tbody>\n",
       "    <tr>\n",
       "      <th>0</th>\n",
       "      <td>Mamadou Diallo</td>\n",
       "      <td>4</td>\n",
       "      <td>MTN</td>\n",
       "      <td>Mauritania</td>\n",
       "      <td>1984</td>\n",
       "      <td>Summer</td>\n",
       "    </tr>\n",
       "    <tr>\n",
       "      <th>1</th>\n",
       "      <td>Mamadou Diallo</td>\n",
       "      <td>4</td>\n",
       "      <td>GUI</td>\n",
       "      <td>Guinea</td>\n",
       "      <td>1980</td>\n",
       "      <td>Summer</td>\n",
       "    </tr>\n",
       "    <tr>\n",
       "      <th>2</th>\n",
       "      <td>Mamadou Diallo</td>\n",
       "      <td>4</td>\n",
       "      <td>MLI</td>\n",
       "      <td>Mali</td>\n",
       "      <td>2004</td>\n",
       "      <td>Summer</td>\n",
       "    </tr>\n",
       "    <tr>\n",
       "      <th>3</th>\n",
       "      <td>Mamadou Diallo</td>\n",
       "      <td>4</td>\n",
       "      <td>SEN</td>\n",
       "      <td>Senegal</td>\n",
       "      <td>1984</td>\n",
       "      <td>Summer</td>\n",
       "    </tr>\n",
       "    <tr>\n",
       "      <th>4</th>\n",
       "      <td>Andrey Pavlovich Bakhvalov</td>\n",
       "      <td>3</td>\n",
       "      <td>URS</td>\n",
       "      <td>Russia</td>\n",
       "      <td>1988</td>\n",
       "      <td>Winter</td>\n",
       "    </tr>\n",
       "    <tr>\n",
       "      <th>...</th>\n",
       "      <td>...</td>\n",
       "      <td>...</td>\n",
       "      <td>...</td>\n",
       "      <td>...</td>\n",
       "      <td>...</td>\n",
       "      <td>...</td>\n",
       "    </tr>\n",
       "    <tr>\n",
       "      <th>285</th>\n",
       "      <td>Annemarie Josefina \"Anna\" Cox-Wood</td>\n",
       "      <td>2</td>\n",
       "      <td>AUS</td>\n",
       "      <td>Australia</td>\n",
       "      <td>1992</td>\n",
       "      <td>Summer</td>\n",
       "    </tr>\n",
       "    <tr>\n",
       "      <th>287</th>\n",
       "      <td>Annemarie Josefina \"Anna\" Cox-Wood</td>\n",
       "      <td>2</td>\n",
       "      <td>AUS</td>\n",
       "      <td>Australia</td>\n",
       "      <td>1996</td>\n",
       "      <td>Summer</td>\n",
       "    </tr>\n",
       "    <tr>\n",
       "      <th>288</th>\n",
       "      <td>Annemarie Josefina \"Anna\" Cox-Wood</td>\n",
       "      <td>2</td>\n",
       "      <td>AUS</td>\n",
       "      <td>Australia</td>\n",
       "      <td>2000</td>\n",
       "      <td>Summer</td>\n",
       "    </tr>\n",
       "    <tr>\n",
       "      <th>289</th>\n",
       "      <td>Apolinario \"Polin\" Belisle Gmez</td>\n",
       "      <td>2</td>\n",
       "      <td>BIZ</td>\n",
       "      <td>Belize</td>\n",
       "      <td>1988</td>\n",
       "      <td>Summer</td>\n",
       "    </tr>\n",
       "    <tr>\n",
       "      <th>290</th>\n",
       "      <td>Apolinario \"Polin\" Belisle Gmez</td>\n",
       "      <td>2</td>\n",
       "      <td>HON</td>\n",
       "      <td>Honduras</td>\n",
       "      <td>1992</td>\n",
       "      <td>Summer</td>\n",
       "    </tr>\n",
       "  </tbody>\n",
       "</table>\n",
       "<p>179 rows × 6 columns</p>\n",
       "</div>"
      ],
      "text/plain": [
       "                                   Name  Number of shows  NOC         reg  \\\n",
       "0                        Mamadou Diallo                4  MTN  Mauritania   \n",
       "1                        Mamadou Diallo                4  GUI      Guinea   \n",
       "2                        Mamadou Diallo                4  MLI        Mali   \n",
       "3                        Mamadou Diallo                4  SEN     Senegal   \n",
       "4            Andrey Pavlovich Bakhvalov                3  URS      Russia   \n",
       "..                                  ...              ...  ...         ...   \n",
       "285  Annemarie Josefina \"Anna\" Cox-Wood                2  AUS   Australia   \n",
       "287  Annemarie Josefina \"Anna\" Cox-Wood                2  AUS   Australia   \n",
       "288  Annemarie Josefina \"Anna\" Cox-Wood                2  AUS   Australia   \n",
       "289     Apolinario \"Polin\" Belisle Gmez                2  BIZ      Belize   \n",
       "290     Apolinario \"Polin\" Belisle Gmez                2  HON    Honduras   \n",
       "\n",
       "     Year  Season  \n",
       "0    1984  Summer  \n",
       "1    1980  Summer  \n",
       "2    2004  Summer  \n",
       "3    1984  Summer  \n",
       "4    1988  Winter  \n",
       "..    ...     ...  \n",
       "285  1992  Summer  \n",
       "287  1996  Summer  \n",
       "288  2000  Summer  \n",
       "289  1988  Summer  \n",
       "290  1992  Summer  \n",
       "\n",
       "[179 rows x 6 columns]"
      ]
     },
     "execution_count": 212,
     "metadata": {},
     "output_type": "execute_result"
    }
   ],
   "source": [
    "change_ath_df = olympic_df.groupby('Name')[['NOC']].nunique() \n",
    "change_ath_df= change_ath_df.reset_index()\n",
    "change_ath_df = change_ath_df.nlargest(61, 'NOC')\n",
    "change_ath_df = change_ath_df.rename(columns={'NOC': 'Number of shows'})\n",
    "change_ath_df = change_ath_df.merge(olympic_df[['Name','NOC','reg','Year','Season']], on='Name', how='left').drop_duplicates()\n",
    "change_ath_df"
   ]
  },
  {
   "cell_type": "code",
   "execution_count": 302,
   "id": "d69116b8-c6fc-482b-8500-92aafb6bb5b6",
   "metadata": {
    "tags": []
   },
   "outputs": [
    {
     "data": {
      "text/plain": [
       "(157, 16)"
      ]
     },
     "execution_count": 302,
     "metadata": {},
     "output_type": "execute_result"
    }
   ],
   "source": [
    "israel_df = olympic_df[olympic_df['reg'] == 'Israel']\n",
    "israel_df.shape"
   ]
  },
  {
   "cell_type": "code",
   "execution_count": 309,
   "id": "7dfef8a0-7c1e-4bc7-aea4-1c28e32edea4",
   "metadata": {
    "tags": []
   },
   "outputs": [
    {
     "data": {
      "text/html": [
       "<div>\n",
       "<style scoped>\n",
       "    .dataframe tbody tr th:only-of-type {\n",
       "        vertical-align: middle;\n",
       "    }\n",
       "\n",
       "    .dataframe tbody tr th {\n",
       "        vertical-align: top;\n",
       "    }\n",
       "\n",
       "    .dataframe thead th {\n",
       "        text-align: right;\n",
       "    }\n",
       "</style>\n",
       "<table border=\"1\" class=\"dataframe\">\n",
       "  <thead>\n",
       "    <tr style=\"text-align: right;\">\n",
       "      <th></th>\n",
       "      <th>Sport</th>\n",
       "      <th>Medal</th>\n",
       "    </tr>\n",
       "  </thead>\n",
       "  <tbody>\n",
       "    <tr>\n",
       "      <th>0</th>\n",
       "      <td>Athletics</td>\n",
       "      <td>0</td>\n",
       "    </tr>\n",
       "    <tr>\n",
       "      <th>1</th>\n",
       "      <td>Basketball</td>\n",
       "      <td>0</td>\n",
       "    </tr>\n",
       "    <tr>\n",
       "      <th>2</th>\n",
       "      <td>Boxing</td>\n",
       "      <td>0</td>\n",
       "    </tr>\n",
       "    <tr>\n",
       "      <th>3</th>\n",
       "      <td>Canoeing</td>\n",
       "      <td>0</td>\n",
       "    </tr>\n",
       "    <tr>\n",
       "      <th>4</th>\n",
       "      <td>Cycling</td>\n",
       "      <td>0</td>\n",
       "    </tr>\n",
       "    <tr>\n",
       "      <th>5</th>\n",
       "      <td>Fencing</td>\n",
       "      <td>0</td>\n",
       "    </tr>\n",
       "    <tr>\n",
       "      <th>6</th>\n",
       "      <td>Figure Skating</td>\n",
       "      <td>0</td>\n",
       "    </tr>\n",
       "    <tr>\n",
       "      <th>7</th>\n",
       "      <td>Football</td>\n",
       "      <td>0</td>\n",
       "    </tr>\n",
       "    <tr>\n",
       "      <th>8</th>\n",
       "      <td>Golf</td>\n",
       "      <td>0</td>\n",
       "    </tr>\n",
       "    <tr>\n",
       "      <th>9</th>\n",
       "      <td>Gymnastics</td>\n",
       "      <td>0</td>\n",
       "    </tr>\n",
       "    <tr>\n",
       "      <th>10</th>\n",
       "      <td>Judo</td>\n",
       "      <td>1</td>\n",
       "    </tr>\n",
       "    <tr>\n",
       "      <th>11</th>\n",
       "      <td>Rhythmic Gymnastics</td>\n",
       "      <td>0</td>\n",
       "    </tr>\n",
       "    <tr>\n",
       "      <th>12</th>\n",
       "      <td>Sailing</td>\n",
       "      <td>0</td>\n",
       "    </tr>\n",
       "    <tr>\n",
       "      <th>13</th>\n",
       "      <td>Shooting</td>\n",
       "      <td>0</td>\n",
       "    </tr>\n",
       "    <tr>\n",
       "      <th>14</th>\n",
       "      <td>Short Track Speed Skating</td>\n",
       "      <td>0</td>\n",
       "    </tr>\n",
       "    <tr>\n",
       "      <th>15</th>\n",
       "      <td>Swimming</td>\n",
       "      <td>0</td>\n",
       "    </tr>\n",
       "    <tr>\n",
       "      <th>16</th>\n",
       "      <td>Taekwondo</td>\n",
       "      <td>0</td>\n",
       "    </tr>\n",
       "    <tr>\n",
       "      <th>17</th>\n",
       "      <td>Tennis</td>\n",
       "      <td>0</td>\n",
       "    </tr>\n",
       "    <tr>\n",
       "      <th>18</th>\n",
       "      <td>Triathlon</td>\n",
       "      <td>0</td>\n",
       "    </tr>\n",
       "    <tr>\n",
       "      <th>19</th>\n",
       "      <td>Weightlifting</td>\n",
       "      <td>0</td>\n",
       "    </tr>\n",
       "    <tr>\n",
       "      <th>20</th>\n",
       "      <td>Wrestling</td>\n",
       "      <td>0</td>\n",
       "    </tr>\n",
       "  </tbody>\n",
       "</table>\n",
       "</div>"
      ],
      "text/plain": [
       "                        Sport  Medal\n",
       "0                   Athletics      0\n",
       "1                  Basketball      0\n",
       "2                      Boxing      0\n",
       "3                    Canoeing      0\n",
       "4                     Cycling      0\n",
       "5                     Fencing      0\n",
       "6              Figure Skating      0\n",
       "7                    Football      0\n",
       "8                        Golf      0\n",
       "9                  Gymnastics      0\n",
       "10                       Judo      1\n",
       "11        Rhythmic Gymnastics      0\n",
       "12                    Sailing      0\n",
       "13                   Shooting      0\n",
       "14  Short Track Speed Skating      0\n",
       "15                   Swimming      0\n",
       "16                  Taekwondo      0\n",
       "17                     Tennis      0\n",
       "18                  Triathlon      0\n",
       "19              Weightlifting      0\n",
       "20                  Wrestling      0"
      ]
     },
     "execution_count": 309,
     "metadata": {},
     "output_type": "execute_result"
    }
   ],
   "source": [
    "israel_df \n",
    "medal = israel_df.groupby('Sport')[['Medal']].count()\n",
    "medal = medal.reset_index()\n",
    "medal"
   ]
  },
  {
   "cell_type": "code",
   "execution_count": 257,
   "id": "444239e8-9467-45c2-85db-ed6482799fd3",
   "metadata": {
    "tags": []
   },
   "outputs": [
    {
     "data": {
      "text/plain": [
       "Index(['Sport_Alpinism', 'Sport_Archery', 'Sport_Art Competitions',\n",
       "       'Sport_Athletics', 'Sport_Badminton', 'Sport_Baseball',\n",
       "       'Sport_Basketball', 'Sport_Basque Pelota', 'Sport_Beach Volleyball',\n",
       "       'Sport_Boxing', 'Sport_Canoeing', 'Sport_Cricket', 'Sport_Croquet',\n",
       "       'Sport_Cycling', 'Sport_Diving', 'Sport_Equestrianism', 'Sport_Fencing',\n",
       "       'Sport_Figure Skating', 'Sport_Football', 'Sport_Golf',\n",
       "       'Sport_Gymnastics', 'Sport_Handball', 'Sport_Hockey',\n",
       "       'Sport_Ice Hockey', 'Sport_Jeu De Paume', 'Sport_Judo',\n",
       "       'Sport_Lacrosse', 'Sport_Modern Pentathlon', 'Sport_Motorboating',\n",
       "       'Sport_Polo', 'Sport_Racquets', 'Sport_Rhythmic Gymnastics',\n",
       "       'Sport_Roque', 'Sport_Rowing', 'Sport_Rugby', 'Sport_Rugby Sevens',\n",
       "       'Sport_Sailing', 'Sport_Shooting', 'Sport_Softball', 'Sport_Swimming',\n",
       "       'Sport_Synchronized Swimming', 'Sport_Table Tennis', 'Sport_Taekwondo',\n",
       "       'Sport_Tennis', 'Sport_Trampolining', 'Sport_Triathlon',\n",
       "       'Sport_Tug-Of-War', 'Sport_Volleyball', 'Sport_Water Polo',\n",
       "       'Sport_Weightlifting', 'Sport_Wrestling'],\n",
       "      dtype='object')"
      ]
     },
     "execution_count": 257,
     "metadata": {},
     "output_type": "execute_result"
    }
   ],
   "source": [
    "col_to_dummy = ['Sport']\n",
    "col_num = ['Age','Height','Weight']\n",
    "dummy_olympic =  pd.get_dummies(summer_olympics_df[col_to_dummy])\n",
    "\n",
    "dummy_olympic.columns"
   ]
  },
  {
   "cell_type": "code",
   "execution_count": 281,
   "id": "64e804e5-f472-4c69-aae5-abfc496a8210",
   "metadata": {
    "tags": []
   },
   "outputs": [
    {
     "ename": "KeyError",
     "evalue": "\"['Alpinism', 'Archery', 'Art Competitions', 'Athletics', 'Badminton', 'Baseball', 'Basketball', 'Basque Pelota', 'Beach Volleyball', 'Boxing', 'Canoeing', 'Cricket', 'Croquet', 'Cycling', 'Diving', 'Equestrianism', 'Fencing', 'Figure Skating', 'Football', 'Golf', 'Gymnastics', 'Handball', 'Hockey', 'Ice Hockey', 'Jeu De Paume', 'Judo', 'Lacrosse', 'Modern Pentathlon', 'Motorboating', 'Polo', 'Racquets', 'Rhythmic Gymnastics', 'Roque', 'Rowing', 'Rugby', 'Rugby Sevens', 'Sailing', 'Shooting', 'Softball', 'Swimming', 'Synchronized Swimming', 'Table Tennis', 'Taekwondo', 'Tennis', 'Trampolining', 'Triathlon', 'Tug-Of-War', 'Volleyball', 'Water Polo', 'Weightlifting', 'Wrestling'] not in index\"",
     "output_type": "error",
     "traceback": [
      "\u001b[1;31m---------------------------------------------------------------------------\u001b[0m",
      "\u001b[1;31mKeyError\u001b[0m                                  Traceback (most recent call last)",
      "Cell \u001b[1;32mIn[281], line 20\u001b[0m\n\u001b[0;32m     18\u001b[0m \u001b[38;5;66;03m# יצירת DataFrame עם עמודות המתאימות\u001b[39;00m\n\u001b[0;32m     19\u001b[0m cols \u001b[38;5;241m=\u001b[39m [\u001b[38;5;124m'\u001b[39m\u001b[38;5;124mAge\u001b[39m\u001b[38;5;124m'\u001b[39m, \u001b[38;5;124m'\u001b[39m\u001b[38;5;124mHeight\u001b[39m\u001b[38;5;124m'\u001b[39m, \u001b[38;5;124m'\u001b[39m\u001b[38;5;124mWeight\u001b[39m\u001b[38;5;124m'\u001b[39m] \u001b[38;5;241m+\u001b[39m sport_dummy_cols\n\u001b[1;32m---> 20\u001b[0m data_for_corr \u001b[38;5;241m=\u001b[39m summer_olympics_df[cols]\n\u001b[0;32m     22\u001b[0m correlation_matrix \u001b[38;5;241m=\u001b[39m sport_dummy\u001b[38;5;241m.\u001b[39mcorr(numeric_only \u001b[38;5;241m=\u001b[39m \u001b[38;5;28;01mFalse\u001b[39;00m, method \u001b[38;5;241m=\u001b[39m \u001b[38;5;124m'\u001b[39m\u001b[38;5;124mspearman\u001b[39m\u001b[38;5;124m'\u001b[39m )\u001b[38;5;241m.\u001b[39mround(\u001b[38;5;241m2\u001b[39m)\n\u001b[0;32m     23\u001b[0m subset_correlation_matrix \u001b[38;5;241m=\u001b[39m correlation_matrix[cols]\u001b[38;5;241m.\u001b[39mtranspose()\n",
      "File \u001b[1;32m~\\anaconda3\\Lib\\site-packages\\pandas\\core\\frame.py:3767\u001b[0m, in \u001b[0;36mDataFrame.__getitem__\u001b[1;34m(self, key)\u001b[0m\n\u001b[0;32m   3765\u001b[0m     \u001b[38;5;28;01mif\u001b[39;00m is_iterator(key):\n\u001b[0;32m   3766\u001b[0m         key \u001b[38;5;241m=\u001b[39m \u001b[38;5;28mlist\u001b[39m(key)\n\u001b[1;32m-> 3767\u001b[0m     indexer \u001b[38;5;241m=\u001b[39m \u001b[38;5;28mself\u001b[39m\u001b[38;5;241m.\u001b[39mcolumns\u001b[38;5;241m.\u001b[39m_get_indexer_strict(key, \u001b[38;5;124m\"\u001b[39m\u001b[38;5;124mcolumns\u001b[39m\u001b[38;5;124m\"\u001b[39m)[\u001b[38;5;241m1\u001b[39m]\n\u001b[0;32m   3769\u001b[0m \u001b[38;5;66;03m# take() does not accept boolean indexers\u001b[39;00m\n\u001b[0;32m   3770\u001b[0m \u001b[38;5;28;01mif\u001b[39;00m \u001b[38;5;28mgetattr\u001b[39m(indexer, \u001b[38;5;124m\"\u001b[39m\u001b[38;5;124mdtype\u001b[39m\u001b[38;5;124m\"\u001b[39m, \u001b[38;5;28;01mNone\u001b[39;00m) \u001b[38;5;241m==\u001b[39m \u001b[38;5;28mbool\u001b[39m:\n",
      "File \u001b[1;32m~\\anaconda3\\Lib\\site-packages\\pandas\\core\\indexes\\base.py:5877\u001b[0m, in \u001b[0;36mIndex._get_indexer_strict\u001b[1;34m(self, key, axis_name)\u001b[0m\n\u001b[0;32m   5874\u001b[0m \u001b[38;5;28;01melse\u001b[39;00m:\n\u001b[0;32m   5875\u001b[0m     keyarr, indexer, new_indexer \u001b[38;5;241m=\u001b[39m \u001b[38;5;28mself\u001b[39m\u001b[38;5;241m.\u001b[39m_reindex_non_unique(keyarr)\n\u001b[1;32m-> 5877\u001b[0m \u001b[38;5;28mself\u001b[39m\u001b[38;5;241m.\u001b[39m_raise_if_missing(keyarr, indexer, axis_name)\n\u001b[0;32m   5879\u001b[0m keyarr \u001b[38;5;241m=\u001b[39m \u001b[38;5;28mself\u001b[39m\u001b[38;5;241m.\u001b[39mtake(indexer)\n\u001b[0;32m   5880\u001b[0m \u001b[38;5;28;01mif\u001b[39;00m \u001b[38;5;28misinstance\u001b[39m(key, Index):\n\u001b[0;32m   5881\u001b[0m     \u001b[38;5;66;03m# GH 42790 - Preserve name from an Index\u001b[39;00m\n",
      "File \u001b[1;32m~\\anaconda3\\Lib\\site-packages\\pandas\\core\\indexes\\base.py:5941\u001b[0m, in \u001b[0;36mIndex._raise_if_missing\u001b[1;34m(self, key, indexer, axis_name)\u001b[0m\n\u001b[0;32m   5938\u001b[0m     \u001b[38;5;28;01mraise\u001b[39;00m \u001b[38;5;167;01mKeyError\u001b[39;00m(\u001b[38;5;124mf\u001b[39m\u001b[38;5;124m\"\u001b[39m\u001b[38;5;124mNone of [\u001b[39m\u001b[38;5;132;01m{\u001b[39;00mkey\u001b[38;5;132;01m}\u001b[39;00m\u001b[38;5;124m] are in the [\u001b[39m\u001b[38;5;132;01m{\u001b[39;00maxis_name\u001b[38;5;132;01m}\u001b[39;00m\u001b[38;5;124m]\u001b[39m\u001b[38;5;124m\"\u001b[39m)\n\u001b[0;32m   5940\u001b[0m not_found \u001b[38;5;241m=\u001b[39m \u001b[38;5;28mlist\u001b[39m(ensure_index(key)[missing_mask\u001b[38;5;241m.\u001b[39mnonzero()[\u001b[38;5;241m0\u001b[39m]]\u001b[38;5;241m.\u001b[39munique())\n\u001b[1;32m-> 5941\u001b[0m \u001b[38;5;28;01mraise\u001b[39;00m \u001b[38;5;167;01mKeyError\u001b[39;00m(\u001b[38;5;124mf\u001b[39m\u001b[38;5;124m\"\u001b[39m\u001b[38;5;132;01m{\u001b[39;00mnot_found\u001b[38;5;132;01m}\u001b[39;00m\u001b[38;5;124m not in index\u001b[39m\u001b[38;5;124m\"\u001b[39m)\n",
      "\u001b[1;31mKeyError\u001b[0m: \"['Alpinism', 'Archery', 'Art Competitions', 'Athletics', 'Badminton', 'Baseball', 'Basketball', 'Basque Pelota', 'Beach Volleyball', 'Boxing', 'Canoeing', 'Cricket', 'Croquet', 'Cycling', 'Diving', 'Equestrianism', 'Fencing', 'Figure Skating', 'Football', 'Golf', 'Gymnastics', 'Handball', 'Hockey', 'Ice Hockey', 'Jeu De Paume', 'Judo', 'Lacrosse', 'Modern Pentathlon', 'Motorboating', 'Polo', 'Racquets', 'Rhythmic Gymnastics', 'Roque', 'Rowing', 'Rugby', 'Rugby Sevens', 'Sailing', 'Shooting', 'Softball', 'Swimming', 'Synchronized Swimming', 'Table Tennis', 'Taekwondo', 'Tennis', 'Trampolining', 'Triathlon', 'Tug-Of-War', 'Volleyball', 'Water Polo', 'Weightlifting', 'Wrestling'] not in index\""
     ]
    }
   ],
   "source": [
    "# # הפיכת עמודת הספורט למשתנה דמי\n",
    "# sport_dummy = pd.get_dummies(summer_olympics_df['Sport'])\n",
    "# sport_dummy = ['Age', 'Height', 'Weight'] + list(sport_dummy.columns)\n",
    "# # יצירת DataFrame עם עמודות המתאימות\n",
    "# cols = ['Age', 'Height', 'Weight'] + list(sport_dummy.columns)\n",
    "# data_for_corr = sport_dummy[cols]\n",
    "\n",
    "# # חישוב טבלת קורלציה\n",
    "# correlation_table = data_for_corr.corr()\n",
    "\n",
    "# # הצגת הטבלה\n",
    "# correlation_table\n",
    "# הפיכת עמודת הספורט למשתנה דמי\n",
    "# הפיכת עמודת הספורט למשתנה דמי\n",
    "sport_dummy = pd.get_dummies(summer_olympics_df['Sport'])\n",
    "sport_dummy_cols = list(sport_dummy.columns)\n",
    "\n",
    "# יצירת DataFrame עם עמודות המתאימות\n",
    "cols = ['Age', 'Height', 'Weight'] + sport_dummy_cols\n",
    "data_for_corr = summer_olympics_df[cols]\n",
    "\n",
    "correlation_matrix = sport_dummy.corr(numeric_only = False, method = 'spearman' ).round(2)\n",
    "subset_correlation_matrix = correlation_matrix[cols].transpose()\n",
    "subset_correlation_matrix\n"
   ]
  },
  {
   "cell_type": "code",
   "execution_count": 277,
   "id": "97d1b88b-28c1-43db-b907-ce365d3e1e4a",
   "metadata": {
    "tags": []
   },
   "outputs": [
    {
     "ename": "IndexError",
     "evalue": "only integers, slices (`:`), ellipsis (`...`), numpy.newaxis (`None`) and integer or boolean arrays are valid indices",
     "output_type": "error",
     "traceback": [
      "\u001b[1;31m---------------------------------------------------------------------------\u001b[0m",
      "\u001b[1;31mIndexError\u001b[0m                                Traceback (most recent call last)",
      "Cell \u001b[1;32mIn[277], line 7\u001b[0m\n\u001b[0;32m      4\u001b[0m data \u001b[38;5;241m=\u001b[39m le\u001b[38;5;241m.\u001b[39mfit_transform(data[\u001b[38;5;124m'\u001b[39m\u001b[38;5;124mSport\u001b[39m\u001b[38;5;124m'\u001b[39m])\n\u001b[0;32m      6\u001b[0m \u001b[38;5;66;03m# חישוב הקורלציה\u001b[39;00m\n\u001b[1;32m----> 7\u001b[0m correlation \u001b[38;5;241m=\u001b[39m data[[\u001b[38;5;124m'\u001b[39m\u001b[38;5;124mheight\u001b[39m\u001b[38;5;124m'\u001b[39m, \u001b[38;5;124m'\u001b[39m\u001b[38;5;124msport_encoded\u001b[39m\u001b[38;5;124m'\u001b[39m]]\u001b[38;5;241m.\u001b[39mcorr()\n\u001b[0;32m      9\u001b[0m \u001b[38;5;28mprint\u001b[39m(correlation)\n",
      "\u001b[1;31mIndexError\u001b[0m: only integers, slices (`:`), ellipsis (`...`), numpy.newaxis (`None`) and integer or boolean arrays are valid indices"
     ]
    }
   ],
   "source": [
    "from sklearn.preprocessing import LabelEncoder\n",
    "le = LabelEncoder()\n",
    "data = summer_olympics_df\n",
    "data = le.fit_transform(data['Sport'])\n",
    "\n",
    "# חישוב הקורלציה\n",
    "correlation = data[['height', 'sport_encoded']].corr()\n",
    "\n",
    "print(correlation)"
   ]
  },
  {
   "cell_type": "code",
   "execution_count": 258,
   "id": "b54c6b41-6d17-4b31-965a-622d7654a5b1",
   "metadata": {
    "tags": []
   },
   "outputs": [
    {
     "data": {
      "text/plain": [
       "226"
      ]
     },
     "execution_count": 258,
     "metadata": {},
     "output_type": "execute_result"
    }
   ],
   "source": [
    "len(olympic_df['NOC'].unique())"
   ]
  },
  {
   "cell_type": "code",
   "execution_count": 195,
   "id": "1e4a67a9-dddc-496d-93d4-5f65e0573fb3",
   "metadata": {
    "tags": []
   },
   "outputs": [
    {
     "data": {
      "text/plain": [
       "array([nan, 'Gold', 'Bronze', 'Silver'], dtype=object)"
      ]
     },
     "execution_count": 195,
     "metadata": {},
     "output_type": "execute_result"
    }
   ],
   "source": [
    "olympic_df['Medal'].unique()"
   ]
  },
  {
   "cell_type": "code",
   "execution_count": 14,
   "id": "47d6980a-1a1b-47f5-986d-0421c4198097",
   "metadata": {
    "tags": []
   },
   "outputs": [
    {
     "data": {
      "text/plain": [
       "(70000, 15)"
      ]
     },
     "execution_count": 14,
     "metadata": {},
     "output_type": "execute_result"
    }
   ],
   "source": [
    "olympic_df.shape"
   ]
  },
  {
   "cell_type": "code",
   "execution_count": 15,
   "id": "8eca0501-d315-4d01-84b3-f2086a577819",
   "metadata": {},
   "outputs": [
    {
     "data": {
      "text/plain": [
       "<pandas.core.groupby.generic.DataFrameGroupBy object at 0x000001B80007EC50>"
      ]
     },
     "execution_count": 15,
     "metadata": {},
     "output_type": "execute_result"
    }
   ],
   "source": [
    "year_df = olympic_df.groupby('Year')\n",
    "year_df"
   ]
  },
  {
   "cell_type": "code",
   "execution_count": 16,
   "id": "7ee39de3-9b51-4c8e-a6be-4613ceccced3",
   "metadata": {
    "tags": []
   },
   "outputs": [
    {
     "data": {
      "text/html": [
       "<div>\n",
       "<style scoped>\n",
       "    .dataframe tbody tr th:only-of-type {\n",
       "        vertical-align: middle;\n",
       "    }\n",
       "\n",
       "    .dataframe tbody tr th {\n",
       "        vertical-align: top;\n",
       "    }\n",
       "\n",
       "    .dataframe thead th {\n",
       "        text-align: right;\n",
       "    }\n",
       "</style>\n",
       "<table border=\"1\" class=\"dataframe\">\n",
       "  <thead>\n",
       "    <tr style=\"text-align: right;\">\n",
       "      <th></th>\n",
       "      <th>ID</th>\n",
       "      <th>Name</th>\n",
       "      <th>Sex</th>\n",
       "      <th>Age</th>\n",
       "      <th>Height</th>\n",
       "      <th>Weight</th>\n",
       "      <th>Team</th>\n",
       "      <th>NOC</th>\n",
       "      <th>Games</th>\n",
       "      <th>Year</th>\n",
       "      <th>Season</th>\n",
       "      <th>City</th>\n",
       "      <th>Sport</th>\n",
       "      <th>Event</th>\n",
       "      <th>Medal</th>\n",
       "    </tr>\n",
       "  </thead>\n",
       "  <tbody>\n",
       "    <tr>\n",
       "      <th>3079</th>\n",
       "      <td>1724</td>\n",
       "      <td>Aristidis Akratopoulos</td>\n",
       "      <td>M</td>\n",
       "      <td>NaN</td>\n",
       "      <td>NaN</td>\n",
       "      <td>NaN</td>\n",
       "      <td>Greece</td>\n",
       "      <td>GRE</td>\n",
       "      <td>1896 Summer</td>\n",
       "      <td>1896</td>\n",
       "      <td>Summer</td>\n",
       "      <td>Athina</td>\n",
       "      <td>Tennis</td>\n",
       "      <td>Tennis Men's Singles</td>\n",
       "      <td>NaN</td>\n",
       "    </tr>\n",
       "    <tr>\n",
       "      <th>3080</th>\n",
       "      <td>1724</td>\n",
       "      <td>Aristidis Akratopoulos</td>\n",
       "      <td>M</td>\n",
       "      <td>NaN</td>\n",
       "      <td>NaN</td>\n",
       "      <td>NaN</td>\n",
       "      <td>Greece-3</td>\n",
       "      <td>GRE</td>\n",
       "      <td>1896 Summer</td>\n",
       "      <td>1896</td>\n",
       "      <td>Summer</td>\n",
       "      <td>Athina</td>\n",
       "      <td>Tennis</td>\n",
       "      <td>Tennis Men's Doubles</td>\n",
       "      <td>NaN</td>\n",
       "    </tr>\n",
       "    <tr>\n",
       "      <th>3081</th>\n",
       "      <td>1725</td>\n",
       "      <td>Konstantinos \"Kostas\" Akratopoulos</td>\n",
       "      <td>M</td>\n",
       "      <td>NaN</td>\n",
       "      <td>NaN</td>\n",
       "      <td>NaN</td>\n",
       "      <td>Greece</td>\n",
       "      <td>GRE</td>\n",
       "      <td>1896 Summer</td>\n",
       "      <td>1896</td>\n",
       "      <td>Summer</td>\n",
       "      <td>Athina</td>\n",
       "      <td>Tennis</td>\n",
       "      <td>Tennis Men's Singles</td>\n",
       "      <td>NaN</td>\n",
       "    </tr>\n",
       "    <tr>\n",
       "      <th>3082</th>\n",
       "      <td>1725</td>\n",
       "      <td>Konstantinos \"Kostas\" Akratopoulos</td>\n",
       "      <td>M</td>\n",
       "      <td>NaN</td>\n",
       "      <td>NaN</td>\n",
       "      <td>NaN</td>\n",
       "      <td>Greece-3</td>\n",
       "      <td>GRE</td>\n",
       "      <td>1896 Summer</td>\n",
       "      <td>1896</td>\n",
       "      <td>Summer</td>\n",
       "      <td>Athina</td>\n",
       "      <td>Tennis</td>\n",
       "      <td>Tennis Men's Doubles</td>\n",
       "      <td>NaN</td>\n",
       "    </tr>\n",
       "    <tr>\n",
       "      <th>7348</th>\n",
       "      <td>4113</td>\n",
       "      <td>Anastasios Andreou</td>\n",
       "      <td>M</td>\n",
       "      <td>NaN</td>\n",
       "      <td>NaN</td>\n",
       "      <td>NaN</td>\n",
       "      <td>Greece</td>\n",
       "      <td>GRE</td>\n",
       "      <td>1896 Summer</td>\n",
       "      <td>1896</td>\n",
       "      <td>Summer</td>\n",
       "      <td>Athina</td>\n",
       "      <td>Athletics</td>\n",
       "      <td>Athletics Men's 110 metres Hurdles</td>\n",
       "      <td>NaN</td>\n",
       "    </tr>\n",
       "    <tr>\n",
       "      <th>...</th>\n",
       "      <td>...</td>\n",
       "      <td>...</td>\n",
       "      <td>...</td>\n",
       "      <td>...</td>\n",
       "      <td>...</td>\n",
       "      <td>...</td>\n",
       "      <td>...</td>\n",
       "      <td>...</td>\n",
       "      <td>...</td>\n",
       "      <td>...</td>\n",
       "      <td>...</td>\n",
       "      <td>...</td>\n",
       "      <td>...</td>\n",
       "      <td>...</td>\n",
       "      <td>...</td>\n",
       "    </tr>\n",
       "    <tr>\n",
       "      <th>63072</th>\n",
       "      <td>32330</td>\n",
       "      <td>Launceston Elliot</td>\n",
       "      <td>M</td>\n",
       "      <td>21.0</td>\n",
       "      <td>188.0</td>\n",
       "      <td>102.0</td>\n",
       "      <td>Great Britain</td>\n",
       "      <td>GBR</td>\n",
       "      <td>1896 Summer</td>\n",
       "      <td>1896</td>\n",
       "      <td>Summer</td>\n",
       "      <td>Athina</td>\n",
       "      <td>Gymnastics</td>\n",
       "      <td>Gymnastics Men's Rope Climbing</td>\n",
       "      <td>NaN</td>\n",
       "    </tr>\n",
       "    <tr>\n",
       "      <th>68788</th>\n",
       "      <td>35093</td>\n",
       "      <td>Alexios Fetsis</td>\n",
       "      <td>M</td>\n",
       "      <td>NaN</td>\n",
       "      <td>NaN</td>\n",
       "      <td>NaN</td>\n",
       "      <td>Greece</td>\n",
       "      <td>GRE</td>\n",
       "      <td>1896 Summer</td>\n",
       "      <td>1896</td>\n",
       "      <td>Summer</td>\n",
       "      <td>Athina</td>\n",
       "      <td>Shooting</td>\n",
       "      <td>Shooting Men's Free Rifle, Three Positions, 30...</td>\n",
       "      <td>NaN</td>\n",
       "    </tr>\n",
       "    <tr>\n",
       "      <th>68789</th>\n",
       "      <td>35093</td>\n",
       "      <td>Alexios Fetsis</td>\n",
       "      <td>M</td>\n",
       "      <td>NaN</td>\n",
       "      <td>NaN</td>\n",
       "      <td>NaN</td>\n",
       "      <td>Greece</td>\n",
       "      <td>GRE</td>\n",
       "      <td>1896 Summer</td>\n",
       "      <td>1896</td>\n",
       "      <td>Summer</td>\n",
       "      <td>Athina</td>\n",
       "      <td>Shooting</td>\n",
       "      <td>Shooting Men's Military Rifle, 200 metres</td>\n",
       "      <td>NaN</td>\n",
       "    </tr>\n",
       "    <tr>\n",
       "      <th>68790</th>\n",
       "      <td>35094</td>\n",
       "      <td>Angelos Fetsis</td>\n",
       "      <td>M</td>\n",
       "      <td>NaN</td>\n",
       "      <td>NaN</td>\n",
       "      <td>NaN</td>\n",
       "      <td>Greece</td>\n",
       "      <td>GRE</td>\n",
       "      <td>1896 Summer</td>\n",
       "      <td>1896</td>\n",
       "      <td>Summer</td>\n",
       "      <td>Athina</td>\n",
       "      <td>Athletics</td>\n",
       "      <td>Athletics Men's 800 metres</td>\n",
       "      <td>NaN</td>\n",
       "    </tr>\n",
       "    <tr>\n",
       "      <th>68791</th>\n",
       "      <td>35094</td>\n",
       "      <td>Angelos Fetsis</td>\n",
       "      <td>M</td>\n",
       "      <td>NaN</td>\n",
       "      <td>NaN</td>\n",
       "      <td>NaN</td>\n",
       "      <td>Greece</td>\n",
       "      <td>GRE</td>\n",
       "      <td>1896 Summer</td>\n",
       "      <td>1896</td>\n",
       "      <td>Summer</td>\n",
       "      <td>Athina</td>\n",
       "      <td>Athletics</td>\n",
       "      <td>Athletics Men's 1,500 metres</td>\n",
       "      <td>NaN</td>\n",
       "    </tr>\n",
       "  </tbody>\n",
       "</table>\n",
       "<p>65 rows × 15 columns</p>\n",
       "</div>"
      ],
      "text/plain": [
       "          ID                                Name Sex   Age  Height  Weight  \\\n",
       "3079    1724              Aristidis Akratopoulos   M   NaN     NaN     NaN   \n",
       "3080    1724              Aristidis Akratopoulos   M   NaN     NaN     NaN   \n",
       "3081    1725  Konstantinos \"Kostas\" Akratopoulos   M   NaN     NaN     NaN   \n",
       "3082    1725  Konstantinos \"Kostas\" Akratopoulos   M   NaN     NaN     NaN   \n",
       "7348    4113                  Anastasios Andreou   M   NaN     NaN     NaN   \n",
       "...      ...                                 ...  ..   ...     ...     ...   \n",
       "63072  32330                   Launceston Elliot   M  21.0   188.0   102.0   \n",
       "68788  35093                      Alexios Fetsis   M   NaN     NaN     NaN   \n",
       "68789  35093                      Alexios Fetsis   M   NaN     NaN     NaN   \n",
       "68790  35094                      Angelos Fetsis   M   NaN     NaN     NaN   \n",
       "68791  35094                      Angelos Fetsis   M   NaN     NaN     NaN   \n",
       "\n",
       "                Team  NOC        Games  Year  Season    City       Sport  \\\n",
       "3079          Greece  GRE  1896 Summer  1896  Summer  Athina      Tennis   \n",
       "3080        Greece-3  GRE  1896 Summer  1896  Summer  Athina      Tennis   \n",
       "3081          Greece  GRE  1896 Summer  1896  Summer  Athina      Tennis   \n",
       "3082        Greece-3  GRE  1896 Summer  1896  Summer  Athina      Tennis   \n",
       "7348          Greece  GRE  1896 Summer  1896  Summer  Athina   Athletics   \n",
       "...              ...  ...          ...   ...     ...     ...         ...   \n",
       "63072  Great Britain  GBR  1896 Summer  1896  Summer  Athina  Gymnastics   \n",
       "68788         Greece  GRE  1896 Summer  1896  Summer  Athina    Shooting   \n",
       "68789         Greece  GRE  1896 Summer  1896  Summer  Athina    Shooting   \n",
       "68790         Greece  GRE  1896 Summer  1896  Summer  Athina   Athletics   \n",
       "68791         Greece  GRE  1896 Summer  1896  Summer  Athina   Athletics   \n",
       "\n",
       "                                                   Event Medal  \n",
       "3079                                Tennis Men's Singles   NaN  \n",
       "3080                                Tennis Men's Doubles   NaN  \n",
       "3081                                Tennis Men's Singles   NaN  \n",
       "3082                                Tennis Men's Doubles   NaN  \n",
       "7348                  Athletics Men's 110 metres Hurdles   NaN  \n",
       "...                                                  ...   ...  \n",
       "63072                     Gymnastics Men's Rope Climbing   NaN  \n",
       "68788  Shooting Men's Free Rifle, Three Positions, 30...   NaN  \n",
       "68789          Shooting Men's Military Rifle, 200 metres   NaN  \n",
       "68790                         Athletics Men's 800 metres   NaN  \n",
       "68791                       Athletics Men's 1,500 metres   NaN  \n",
       "\n",
       "[65 rows x 15 columns]"
      ]
     },
     "execution_count": 16,
     "metadata": {},
     "output_type": "execute_result"
    }
   ],
   "source": [
    "tr = olympic_df[olympic_df['Year'] == 1896]\n",
    "tr"
   ]
  },
  {
   "cell_type": "code",
   "execution_count": 17,
   "id": "571bfaa1-8a9c-4cff-9184-633a8e9a53fb",
   "metadata": {
    "tags": []
   },
   "outputs": [
    {
     "data": {
      "text/plain": [
       "3208"
      ]
     },
     "execution_count": 17,
     "metadata": {},
     "output_type": "execute_result"
    }
   ],
   "source": [
    "tr = olympic_df[olympic_df['Medal'] == 'Bronze']\n",
    "len(tr)"
   ]
  },
  {
   "cell_type": "code",
   "execution_count": null,
   "id": "2413aa91-eac7-40b2-9129-cf3be0703035",
   "metadata": {},
   "outputs": [],
   "source": []
  }
 ],
 "metadata": {
  "kernelspec": {
   "display_name": "Python 3 (ipykernel)",
   "language": "python",
   "name": "python3"
  },
  "language_info": {
   "codemirror_mode": {
    "name": "ipython",
    "version": 3
   },
   "file_extension": ".py",
   "mimetype": "text/x-python",
   "name": "python",
   "nbconvert_exporter": "python",
   "pygments_lexer": "ipython3",
   "version": "3.11.5"
  }
 },
 "nbformat": 4,
 "nbformat_minor": 5
}
